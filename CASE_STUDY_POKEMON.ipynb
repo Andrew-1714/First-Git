{
  "nbformat": 4,
  "nbformat_minor": 0,
  "metadata": {
    "colab": {
      "name": "CASE_STUDY_POKEMON",
      "provenance": [],
      "include_colab_link": true
    },
    "kernelspec": {
      "name": "python3",
      "display_name": "Python 3"
    }
  },
  "cells": [
    {
      "cell_type": "markdown",
      "metadata": {
        "id": "view-in-github",
        "colab_type": "text"
      },
      "source": [
        "<a href=\"https://colab.research.google.com/github/Andrew-1714/First-Git/blob/Archivos/CASE_STUDY_POKEMON.ipynb\" target=\"_parent\"><img src=\"https://colab.research.google.com/assets/colab-badge.svg\" alt=\"Open In Colab\"/></a>"
      ]
    },
    {
      "cell_type": "code",
      "metadata": {
        "id": "c4cHJSr6MmKI"
      },
      "source": [
        "import numpy as np\n",
        "import pandas as pd\n",
        "import matplotlib.pyplot as plt\n",
        "import seaborn as sns\n"
      ],
      "execution_count": null,
      "outputs": []
    },
    {
      "cell_type": "code",
      "metadata": {
        "id": "SAnFLPtkNHoV",
        "outputId": "a88f15e1-2df0-47d4-e8c7-e8f4e58d485a",
        "colab": {
          "base_uri": "https://localhost:8080/",
          "height": 225
        }
      },
      "source": [
        "pk_df = pd.read_csv(\"Pokemon.csv\",index_col=0)\n",
        "pk_df.head()"
      ],
      "execution_count": null,
      "outputs": [
        {
          "output_type": "execute_result",
          "data": {
            "text/html": [
              "<div>\n",
              "<style scoped>\n",
              "    .dataframe tbody tr th:only-of-type {\n",
              "        vertical-align: middle;\n",
              "    }\n",
              "\n",
              "    .dataframe tbody tr th {\n",
              "        vertical-align: top;\n",
              "    }\n",
              "\n",
              "    .dataframe thead th {\n",
              "        text-align: right;\n",
              "    }\n",
              "</style>\n",
              "<table border=\"1\" class=\"dataframe\">\n",
              "  <thead>\n",
              "    <tr style=\"text-align: right;\">\n",
              "      <th></th>\n",
              "      <th>Name</th>\n",
              "      <th>Type 1</th>\n",
              "      <th>Type 2</th>\n",
              "      <th>Total</th>\n",
              "      <th>HP</th>\n",
              "      <th>Attack</th>\n",
              "      <th>Defense</th>\n",
              "      <th>Sp. Atk</th>\n",
              "      <th>Sp. Def</th>\n",
              "      <th>Speed</th>\n",
              "      <th>Generation</th>\n",
              "      <th>Legendary</th>\n",
              "    </tr>\n",
              "    <tr>\n",
              "      <th>#</th>\n",
              "      <th></th>\n",
              "      <th></th>\n",
              "      <th></th>\n",
              "      <th></th>\n",
              "      <th></th>\n",
              "      <th></th>\n",
              "      <th></th>\n",
              "      <th></th>\n",
              "      <th></th>\n",
              "      <th></th>\n",
              "      <th></th>\n",
              "      <th></th>\n",
              "    </tr>\n",
              "  </thead>\n",
              "  <tbody>\n",
              "    <tr>\n",
              "      <th>1</th>\n",
              "      <td>Bulbasaur</td>\n",
              "      <td>Grass</td>\n",
              "      <td>Poison</td>\n",
              "      <td>318</td>\n",
              "      <td>45</td>\n",
              "      <td>49</td>\n",
              "      <td>49</td>\n",
              "      <td>65</td>\n",
              "      <td>65</td>\n",
              "      <td>45</td>\n",
              "      <td>1</td>\n",
              "      <td>False</td>\n",
              "    </tr>\n",
              "    <tr>\n",
              "      <th>2</th>\n",
              "      <td>Ivysaur</td>\n",
              "      <td>Grass</td>\n",
              "      <td>Poison</td>\n",
              "      <td>405</td>\n",
              "      <td>60</td>\n",
              "      <td>62</td>\n",
              "      <td>63</td>\n",
              "      <td>80</td>\n",
              "      <td>80</td>\n",
              "      <td>60</td>\n",
              "      <td>1</td>\n",
              "      <td>False</td>\n",
              "    </tr>\n",
              "    <tr>\n",
              "      <th>3</th>\n",
              "      <td>Venusaur</td>\n",
              "      <td>Grass</td>\n",
              "      <td>Poison</td>\n",
              "      <td>525</td>\n",
              "      <td>80</td>\n",
              "      <td>82</td>\n",
              "      <td>83</td>\n",
              "      <td>100</td>\n",
              "      <td>100</td>\n",
              "      <td>80</td>\n",
              "      <td>1</td>\n",
              "      <td>False</td>\n",
              "    </tr>\n",
              "    <tr>\n",
              "      <th>3</th>\n",
              "      <td>VenusaurMega Venusaur</td>\n",
              "      <td>Grass</td>\n",
              "      <td>Poison</td>\n",
              "      <td>625</td>\n",
              "      <td>80</td>\n",
              "      <td>100</td>\n",
              "      <td>123</td>\n",
              "      <td>122</td>\n",
              "      <td>120</td>\n",
              "      <td>80</td>\n",
              "      <td>1</td>\n",
              "      <td>False</td>\n",
              "    </tr>\n",
              "    <tr>\n",
              "      <th>4</th>\n",
              "      <td>Charmander</td>\n",
              "      <td>Fire</td>\n",
              "      <td>NaN</td>\n",
              "      <td>309</td>\n",
              "      <td>39</td>\n",
              "      <td>52</td>\n",
              "      <td>43</td>\n",
              "      <td>60</td>\n",
              "      <td>50</td>\n",
              "      <td>65</td>\n",
              "      <td>1</td>\n",
              "      <td>False</td>\n",
              "    </tr>\n",
              "  </tbody>\n",
              "</table>\n",
              "</div>"
            ],
            "text/plain": [
              "                    Name Type 1  Type 2  ...  Speed  Generation  Legendary\n",
              "#                                        ...                              \n",
              "1              Bulbasaur  Grass  Poison  ...     45           1      False\n",
              "2                Ivysaur  Grass  Poison  ...     60           1      False\n",
              "3               Venusaur  Grass  Poison  ...     80           1      False\n",
              "3  VenusaurMega Venusaur  Grass  Poison  ...     80           1      False\n",
              "4             Charmander   Fire     NaN  ...     65           1      False\n",
              "\n",
              "[5 rows x 12 columns]"
            ]
          },
          "metadata": {
            "tags": []
          },
          "execution_count": 6
        }
      ]
    },
    {
      "cell_type": "code",
      "metadata": {
        "id": "l4mH_t0dNxpg",
        "outputId": "d492fed8-249c-4ef2-8c39-d0a344d62721",
        "colab": {
          "base_uri": "https://localhost:8080/"
        }
      },
      "source": [
        "pk_df.columns = pk_df.columns.str.lower().str.replace(\" \",\"\")\n",
        "pk_df.columns"
      ],
      "execution_count": null,
      "outputs": [
        {
          "output_type": "execute_result",
          "data": {
            "text/plain": [
              "Index(['name', 'type1', 'type2', 'total', 'hp', 'attack', 'defense', 'sp.atk',\n",
              "       'sp.def', 'speed', 'generation', 'legendary'],\n",
              "      dtype='object')"
            ]
          },
          "metadata": {
            "tags": []
          },
          "execution_count": 7
        }
      ]
    },
    {
      "cell_type": "code",
      "metadata": {
        "id": "doXNAGenOLgj",
        "outputId": "4a1e8f4d-d93e-4e18-96ec-b8efc4c9a5fa",
        "colab": {
          "base_uri": "https://localhost:8080/"
        }
      },
      "source": [
        "pk_df.columns = pk_df.columns.str.replace(\".\",\"_\")\n",
        "pk_df.columns"
      ],
      "execution_count": null,
      "outputs": [
        {
          "output_type": "execute_result",
          "data": {
            "text/plain": [
              "Index(['name', 'type1', 'type2', 'total', 'hp', 'attack', 'defense', 'sp_atk',\n",
              "       'sp_def', 'speed', 'generation', 'legendary'],\n",
              "      dtype='object')"
            ]
          },
          "metadata": {
            "tags": []
          },
          "execution_count": 9
        }
      ]
    },
    {
      "cell_type": "code",
      "metadata": {
        "id": "WBAXkCkxOYbN",
        "outputId": "09431cfa-9a82-4111-bd20-0992d0ed35f5",
        "colab": {
          "base_uri": "https://localhost:8080/",
          "height": 669
        }
      },
      "source": [
        "pk_df.head(20)"
      ],
      "execution_count": null,
      "outputs": [
        {
          "output_type": "execute_result",
          "data": {
            "text/html": [
              "<div>\n",
              "<style scoped>\n",
              "    .dataframe tbody tr th:only-of-type {\n",
              "        vertical-align: middle;\n",
              "    }\n",
              "\n",
              "    .dataframe tbody tr th {\n",
              "        vertical-align: top;\n",
              "    }\n",
              "\n",
              "    .dataframe thead th {\n",
              "        text-align: right;\n",
              "    }\n",
              "</style>\n",
              "<table border=\"1\" class=\"dataframe\">\n",
              "  <thead>\n",
              "    <tr style=\"text-align: right;\">\n",
              "      <th></th>\n",
              "      <th>name</th>\n",
              "      <th>type1</th>\n",
              "      <th>type2</th>\n",
              "      <th>total</th>\n",
              "      <th>hp</th>\n",
              "      <th>attack</th>\n",
              "      <th>defense</th>\n",
              "      <th>sp_atk</th>\n",
              "      <th>sp_def</th>\n",
              "      <th>speed</th>\n",
              "      <th>generation</th>\n",
              "      <th>legendary</th>\n",
              "    </tr>\n",
              "    <tr>\n",
              "      <th>#</th>\n",
              "      <th></th>\n",
              "      <th></th>\n",
              "      <th></th>\n",
              "      <th></th>\n",
              "      <th></th>\n",
              "      <th></th>\n",
              "      <th></th>\n",
              "      <th></th>\n",
              "      <th></th>\n",
              "      <th></th>\n",
              "      <th></th>\n",
              "      <th></th>\n",
              "    </tr>\n",
              "  </thead>\n",
              "  <tbody>\n",
              "    <tr>\n",
              "      <th>1</th>\n",
              "      <td>Bulbasaur</td>\n",
              "      <td>Grass</td>\n",
              "      <td>Poison</td>\n",
              "      <td>318</td>\n",
              "      <td>45</td>\n",
              "      <td>49</td>\n",
              "      <td>49</td>\n",
              "      <td>65</td>\n",
              "      <td>65</td>\n",
              "      <td>45</td>\n",
              "      <td>1</td>\n",
              "      <td>False</td>\n",
              "    </tr>\n",
              "    <tr>\n",
              "      <th>2</th>\n",
              "      <td>Ivysaur</td>\n",
              "      <td>Grass</td>\n",
              "      <td>Poison</td>\n",
              "      <td>405</td>\n",
              "      <td>60</td>\n",
              "      <td>62</td>\n",
              "      <td>63</td>\n",
              "      <td>80</td>\n",
              "      <td>80</td>\n",
              "      <td>60</td>\n",
              "      <td>1</td>\n",
              "      <td>False</td>\n",
              "    </tr>\n",
              "    <tr>\n",
              "      <th>3</th>\n",
              "      <td>Venusaur</td>\n",
              "      <td>Grass</td>\n",
              "      <td>Poison</td>\n",
              "      <td>525</td>\n",
              "      <td>80</td>\n",
              "      <td>82</td>\n",
              "      <td>83</td>\n",
              "      <td>100</td>\n",
              "      <td>100</td>\n",
              "      <td>80</td>\n",
              "      <td>1</td>\n",
              "      <td>False</td>\n",
              "    </tr>\n",
              "    <tr>\n",
              "      <th>3</th>\n",
              "      <td>VenusaurMega Venusaur</td>\n",
              "      <td>Grass</td>\n",
              "      <td>Poison</td>\n",
              "      <td>625</td>\n",
              "      <td>80</td>\n",
              "      <td>100</td>\n",
              "      <td>123</td>\n",
              "      <td>122</td>\n",
              "      <td>120</td>\n",
              "      <td>80</td>\n",
              "      <td>1</td>\n",
              "      <td>False</td>\n",
              "    </tr>\n",
              "    <tr>\n",
              "      <th>4</th>\n",
              "      <td>Charmander</td>\n",
              "      <td>Fire</td>\n",
              "      <td>NaN</td>\n",
              "      <td>309</td>\n",
              "      <td>39</td>\n",
              "      <td>52</td>\n",
              "      <td>43</td>\n",
              "      <td>60</td>\n",
              "      <td>50</td>\n",
              "      <td>65</td>\n",
              "      <td>1</td>\n",
              "      <td>False</td>\n",
              "    </tr>\n",
              "    <tr>\n",
              "      <th>5</th>\n",
              "      <td>Charmeleon</td>\n",
              "      <td>Fire</td>\n",
              "      <td>NaN</td>\n",
              "      <td>405</td>\n",
              "      <td>58</td>\n",
              "      <td>64</td>\n",
              "      <td>58</td>\n",
              "      <td>80</td>\n",
              "      <td>65</td>\n",
              "      <td>80</td>\n",
              "      <td>1</td>\n",
              "      <td>False</td>\n",
              "    </tr>\n",
              "    <tr>\n",
              "      <th>6</th>\n",
              "      <td>Charizard</td>\n",
              "      <td>Fire</td>\n",
              "      <td>Flying</td>\n",
              "      <td>534</td>\n",
              "      <td>78</td>\n",
              "      <td>84</td>\n",
              "      <td>78</td>\n",
              "      <td>109</td>\n",
              "      <td>85</td>\n",
              "      <td>100</td>\n",
              "      <td>1</td>\n",
              "      <td>False</td>\n",
              "    </tr>\n",
              "    <tr>\n",
              "      <th>6</th>\n",
              "      <td>CharizardMega Charizard X</td>\n",
              "      <td>Fire</td>\n",
              "      <td>Dragon</td>\n",
              "      <td>634</td>\n",
              "      <td>78</td>\n",
              "      <td>130</td>\n",
              "      <td>111</td>\n",
              "      <td>130</td>\n",
              "      <td>85</td>\n",
              "      <td>100</td>\n",
              "      <td>1</td>\n",
              "      <td>False</td>\n",
              "    </tr>\n",
              "    <tr>\n",
              "      <th>6</th>\n",
              "      <td>CharizardMega Charizard Y</td>\n",
              "      <td>Fire</td>\n",
              "      <td>Flying</td>\n",
              "      <td>634</td>\n",
              "      <td>78</td>\n",
              "      <td>104</td>\n",
              "      <td>78</td>\n",
              "      <td>159</td>\n",
              "      <td>115</td>\n",
              "      <td>100</td>\n",
              "      <td>1</td>\n",
              "      <td>False</td>\n",
              "    </tr>\n",
              "    <tr>\n",
              "      <th>7</th>\n",
              "      <td>Squirtle</td>\n",
              "      <td>Water</td>\n",
              "      <td>NaN</td>\n",
              "      <td>314</td>\n",
              "      <td>44</td>\n",
              "      <td>48</td>\n",
              "      <td>65</td>\n",
              "      <td>50</td>\n",
              "      <td>64</td>\n",
              "      <td>43</td>\n",
              "      <td>1</td>\n",
              "      <td>False</td>\n",
              "    </tr>\n",
              "    <tr>\n",
              "      <th>8</th>\n",
              "      <td>Wartortle</td>\n",
              "      <td>Water</td>\n",
              "      <td>NaN</td>\n",
              "      <td>405</td>\n",
              "      <td>59</td>\n",
              "      <td>63</td>\n",
              "      <td>80</td>\n",
              "      <td>65</td>\n",
              "      <td>80</td>\n",
              "      <td>58</td>\n",
              "      <td>1</td>\n",
              "      <td>False</td>\n",
              "    </tr>\n",
              "    <tr>\n",
              "      <th>9</th>\n",
              "      <td>Blastoise</td>\n",
              "      <td>Water</td>\n",
              "      <td>NaN</td>\n",
              "      <td>530</td>\n",
              "      <td>79</td>\n",
              "      <td>83</td>\n",
              "      <td>100</td>\n",
              "      <td>85</td>\n",
              "      <td>105</td>\n",
              "      <td>78</td>\n",
              "      <td>1</td>\n",
              "      <td>False</td>\n",
              "    </tr>\n",
              "    <tr>\n",
              "      <th>9</th>\n",
              "      <td>BlastoiseMega Blastoise</td>\n",
              "      <td>Water</td>\n",
              "      <td>NaN</td>\n",
              "      <td>630</td>\n",
              "      <td>79</td>\n",
              "      <td>103</td>\n",
              "      <td>120</td>\n",
              "      <td>135</td>\n",
              "      <td>115</td>\n",
              "      <td>78</td>\n",
              "      <td>1</td>\n",
              "      <td>False</td>\n",
              "    </tr>\n",
              "    <tr>\n",
              "      <th>10</th>\n",
              "      <td>Caterpie</td>\n",
              "      <td>Bug</td>\n",
              "      <td>NaN</td>\n",
              "      <td>195</td>\n",
              "      <td>45</td>\n",
              "      <td>30</td>\n",
              "      <td>35</td>\n",
              "      <td>20</td>\n",
              "      <td>20</td>\n",
              "      <td>45</td>\n",
              "      <td>1</td>\n",
              "      <td>False</td>\n",
              "    </tr>\n",
              "    <tr>\n",
              "      <th>11</th>\n",
              "      <td>Metapod</td>\n",
              "      <td>Bug</td>\n",
              "      <td>NaN</td>\n",
              "      <td>205</td>\n",
              "      <td>50</td>\n",
              "      <td>20</td>\n",
              "      <td>55</td>\n",
              "      <td>25</td>\n",
              "      <td>25</td>\n",
              "      <td>30</td>\n",
              "      <td>1</td>\n",
              "      <td>False</td>\n",
              "    </tr>\n",
              "    <tr>\n",
              "      <th>12</th>\n",
              "      <td>Butterfree</td>\n",
              "      <td>Bug</td>\n",
              "      <td>Flying</td>\n",
              "      <td>395</td>\n",
              "      <td>60</td>\n",
              "      <td>45</td>\n",
              "      <td>50</td>\n",
              "      <td>90</td>\n",
              "      <td>80</td>\n",
              "      <td>70</td>\n",
              "      <td>1</td>\n",
              "      <td>False</td>\n",
              "    </tr>\n",
              "    <tr>\n",
              "      <th>13</th>\n",
              "      <td>Weedle</td>\n",
              "      <td>Bug</td>\n",
              "      <td>Poison</td>\n",
              "      <td>195</td>\n",
              "      <td>40</td>\n",
              "      <td>35</td>\n",
              "      <td>30</td>\n",
              "      <td>20</td>\n",
              "      <td>20</td>\n",
              "      <td>50</td>\n",
              "      <td>1</td>\n",
              "      <td>False</td>\n",
              "    </tr>\n",
              "    <tr>\n",
              "      <th>14</th>\n",
              "      <td>Kakuna</td>\n",
              "      <td>Bug</td>\n",
              "      <td>Poison</td>\n",
              "      <td>205</td>\n",
              "      <td>45</td>\n",
              "      <td>25</td>\n",
              "      <td>50</td>\n",
              "      <td>25</td>\n",
              "      <td>25</td>\n",
              "      <td>35</td>\n",
              "      <td>1</td>\n",
              "      <td>False</td>\n",
              "    </tr>\n",
              "    <tr>\n",
              "      <th>15</th>\n",
              "      <td>Beedrill</td>\n",
              "      <td>Bug</td>\n",
              "      <td>Poison</td>\n",
              "      <td>395</td>\n",
              "      <td>65</td>\n",
              "      <td>90</td>\n",
              "      <td>40</td>\n",
              "      <td>45</td>\n",
              "      <td>80</td>\n",
              "      <td>75</td>\n",
              "      <td>1</td>\n",
              "      <td>False</td>\n",
              "    </tr>\n",
              "    <tr>\n",
              "      <th>15</th>\n",
              "      <td>BeedrillMega Beedrill</td>\n",
              "      <td>Bug</td>\n",
              "      <td>Poison</td>\n",
              "      <td>495</td>\n",
              "      <td>65</td>\n",
              "      <td>150</td>\n",
              "      <td>40</td>\n",
              "      <td>15</td>\n",
              "      <td>80</td>\n",
              "      <td>145</td>\n",
              "      <td>1</td>\n",
              "      <td>False</td>\n",
              "    </tr>\n",
              "  </tbody>\n",
              "</table>\n",
              "</div>"
            ],
            "text/plain": [
              "                         name  type1   type2  ...  speed  generation  legendary\n",
              "#                                             ...                              \n",
              "1                   Bulbasaur  Grass  Poison  ...     45           1      False\n",
              "2                     Ivysaur  Grass  Poison  ...     60           1      False\n",
              "3                    Venusaur  Grass  Poison  ...     80           1      False\n",
              "3       VenusaurMega Venusaur  Grass  Poison  ...     80           1      False\n",
              "4                  Charmander   Fire     NaN  ...     65           1      False\n",
              "5                  Charmeleon   Fire     NaN  ...     80           1      False\n",
              "6                   Charizard   Fire  Flying  ...    100           1      False\n",
              "6   CharizardMega Charizard X   Fire  Dragon  ...    100           1      False\n",
              "6   CharizardMega Charizard Y   Fire  Flying  ...    100           1      False\n",
              "7                    Squirtle  Water     NaN  ...     43           1      False\n",
              "8                   Wartortle  Water     NaN  ...     58           1      False\n",
              "9                   Blastoise  Water     NaN  ...     78           1      False\n",
              "9     BlastoiseMega Blastoise  Water     NaN  ...     78           1      False\n",
              "10                   Caterpie    Bug     NaN  ...     45           1      False\n",
              "11                    Metapod    Bug     NaN  ...     30           1      False\n",
              "12                 Butterfree    Bug  Flying  ...     70           1      False\n",
              "13                     Weedle    Bug  Poison  ...     50           1      False\n",
              "14                     Kakuna    Bug  Poison  ...     35           1      False\n",
              "15                   Beedrill    Bug  Poison  ...     75           1      False\n",
              "15      BeedrillMega Beedrill    Bug  Poison  ...    145           1      False\n",
              "\n",
              "[20 rows x 12 columns]"
            ]
          },
          "metadata": {
            "tags": []
          },
          "execution_count": 10
        }
      ]
    },
    {
      "cell_type": "code",
      "metadata": {
        "id": "RtzlsqUJOmn4",
        "outputId": "156a995f-a1d6-47c4-e3f9-97aff1704e86",
        "colab": {
          "base_uri": "https://localhost:8080/",
          "height": 669
        }
      },
      "source": [
        "pk_df.name = pk_df.name.str.replace(\".*(?=Mega)\",\"\")\n",
        "pk_df.head(20)"
      ],
      "execution_count": null,
      "outputs": [
        {
          "output_type": "execute_result",
          "data": {
            "text/html": [
              "<div>\n",
              "<style scoped>\n",
              "    .dataframe tbody tr th:only-of-type {\n",
              "        vertical-align: middle;\n",
              "    }\n",
              "\n",
              "    .dataframe tbody tr th {\n",
              "        vertical-align: top;\n",
              "    }\n",
              "\n",
              "    .dataframe thead th {\n",
              "        text-align: right;\n",
              "    }\n",
              "</style>\n",
              "<table border=\"1\" class=\"dataframe\">\n",
              "  <thead>\n",
              "    <tr style=\"text-align: right;\">\n",
              "      <th></th>\n",
              "      <th>name</th>\n",
              "      <th>type1</th>\n",
              "      <th>type2</th>\n",
              "      <th>total</th>\n",
              "      <th>hp</th>\n",
              "      <th>attack</th>\n",
              "      <th>defense</th>\n",
              "      <th>sp_atk</th>\n",
              "      <th>sp_def</th>\n",
              "      <th>speed</th>\n",
              "      <th>generation</th>\n",
              "      <th>legendary</th>\n",
              "    </tr>\n",
              "    <tr>\n",
              "      <th>#</th>\n",
              "      <th></th>\n",
              "      <th></th>\n",
              "      <th></th>\n",
              "      <th></th>\n",
              "      <th></th>\n",
              "      <th></th>\n",
              "      <th></th>\n",
              "      <th></th>\n",
              "      <th></th>\n",
              "      <th></th>\n",
              "      <th></th>\n",
              "      <th></th>\n",
              "    </tr>\n",
              "  </thead>\n",
              "  <tbody>\n",
              "    <tr>\n",
              "      <th>1</th>\n",
              "      <td>Bulbasaur</td>\n",
              "      <td>Grass</td>\n",
              "      <td>Poison</td>\n",
              "      <td>318</td>\n",
              "      <td>45</td>\n",
              "      <td>49</td>\n",
              "      <td>49</td>\n",
              "      <td>65</td>\n",
              "      <td>65</td>\n",
              "      <td>45</td>\n",
              "      <td>1</td>\n",
              "      <td>False</td>\n",
              "    </tr>\n",
              "    <tr>\n",
              "      <th>2</th>\n",
              "      <td>Ivysaur</td>\n",
              "      <td>Grass</td>\n",
              "      <td>Poison</td>\n",
              "      <td>405</td>\n",
              "      <td>60</td>\n",
              "      <td>62</td>\n",
              "      <td>63</td>\n",
              "      <td>80</td>\n",
              "      <td>80</td>\n",
              "      <td>60</td>\n",
              "      <td>1</td>\n",
              "      <td>False</td>\n",
              "    </tr>\n",
              "    <tr>\n",
              "      <th>3</th>\n",
              "      <td>Venusaur</td>\n",
              "      <td>Grass</td>\n",
              "      <td>Poison</td>\n",
              "      <td>525</td>\n",
              "      <td>80</td>\n",
              "      <td>82</td>\n",
              "      <td>83</td>\n",
              "      <td>100</td>\n",
              "      <td>100</td>\n",
              "      <td>80</td>\n",
              "      <td>1</td>\n",
              "      <td>False</td>\n",
              "    </tr>\n",
              "    <tr>\n",
              "      <th>3</th>\n",
              "      <td>Mega Venusaur</td>\n",
              "      <td>Grass</td>\n",
              "      <td>Poison</td>\n",
              "      <td>625</td>\n",
              "      <td>80</td>\n",
              "      <td>100</td>\n",
              "      <td>123</td>\n",
              "      <td>122</td>\n",
              "      <td>120</td>\n",
              "      <td>80</td>\n",
              "      <td>1</td>\n",
              "      <td>False</td>\n",
              "    </tr>\n",
              "    <tr>\n",
              "      <th>4</th>\n",
              "      <td>Charmander</td>\n",
              "      <td>Fire</td>\n",
              "      <td>NaN</td>\n",
              "      <td>309</td>\n",
              "      <td>39</td>\n",
              "      <td>52</td>\n",
              "      <td>43</td>\n",
              "      <td>60</td>\n",
              "      <td>50</td>\n",
              "      <td>65</td>\n",
              "      <td>1</td>\n",
              "      <td>False</td>\n",
              "    </tr>\n",
              "    <tr>\n",
              "      <th>5</th>\n",
              "      <td>Charmeleon</td>\n",
              "      <td>Fire</td>\n",
              "      <td>NaN</td>\n",
              "      <td>405</td>\n",
              "      <td>58</td>\n",
              "      <td>64</td>\n",
              "      <td>58</td>\n",
              "      <td>80</td>\n",
              "      <td>65</td>\n",
              "      <td>80</td>\n",
              "      <td>1</td>\n",
              "      <td>False</td>\n",
              "    </tr>\n",
              "    <tr>\n",
              "      <th>6</th>\n",
              "      <td>Charizard</td>\n",
              "      <td>Fire</td>\n",
              "      <td>Flying</td>\n",
              "      <td>534</td>\n",
              "      <td>78</td>\n",
              "      <td>84</td>\n",
              "      <td>78</td>\n",
              "      <td>109</td>\n",
              "      <td>85</td>\n",
              "      <td>100</td>\n",
              "      <td>1</td>\n",
              "      <td>False</td>\n",
              "    </tr>\n",
              "    <tr>\n",
              "      <th>6</th>\n",
              "      <td>Mega Charizard X</td>\n",
              "      <td>Fire</td>\n",
              "      <td>Dragon</td>\n",
              "      <td>634</td>\n",
              "      <td>78</td>\n",
              "      <td>130</td>\n",
              "      <td>111</td>\n",
              "      <td>130</td>\n",
              "      <td>85</td>\n",
              "      <td>100</td>\n",
              "      <td>1</td>\n",
              "      <td>False</td>\n",
              "    </tr>\n",
              "    <tr>\n",
              "      <th>6</th>\n",
              "      <td>Mega Charizard Y</td>\n",
              "      <td>Fire</td>\n",
              "      <td>Flying</td>\n",
              "      <td>634</td>\n",
              "      <td>78</td>\n",
              "      <td>104</td>\n",
              "      <td>78</td>\n",
              "      <td>159</td>\n",
              "      <td>115</td>\n",
              "      <td>100</td>\n",
              "      <td>1</td>\n",
              "      <td>False</td>\n",
              "    </tr>\n",
              "    <tr>\n",
              "      <th>7</th>\n",
              "      <td>Squirtle</td>\n",
              "      <td>Water</td>\n",
              "      <td>NaN</td>\n",
              "      <td>314</td>\n",
              "      <td>44</td>\n",
              "      <td>48</td>\n",
              "      <td>65</td>\n",
              "      <td>50</td>\n",
              "      <td>64</td>\n",
              "      <td>43</td>\n",
              "      <td>1</td>\n",
              "      <td>False</td>\n",
              "    </tr>\n",
              "    <tr>\n",
              "      <th>8</th>\n",
              "      <td>Wartortle</td>\n",
              "      <td>Water</td>\n",
              "      <td>NaN</td>\n",
              "      <td>405</td>\n",
              "      <td>59</td>\n",
              "      <td>63</td>\n",
              "      <td>80</td>\n",
              "      <td>65</td>\n",
              "      <td>80</td>\n",
              "      <td>58</td>\n",
              "      <td>1</td>\n",
              "      <td>False</td>\n",
              "    </tr>\n",
              "    <tr>\n",
              "      <th>9</th>\n",
              "      <td>Blastoise</td>\n",
              "      <td>Water</td>\n",
              "      <td>NaN</td>\n",
              "      <td>530</td>\n",
              "      <td>79</td>\n",
              "      <td>83</td>\n",
              "      <td>100</td>\n",
              "      <td>85</td>\n",
              "      <td>105</td>\n",
              "      <td>78</td>\n",
              "      <td>1</td>\n",
              "      <td>False</td>\n",
              "    </tr>\n",
              "    <tr>\n",
              "      <th>9</th>\n",
              "      <td>Mega Blastoise</td>\n",
              "      <td>Water</td>\n",
              "      <td>NaN</td>\n",
              "      <td>630</td>\n",
              "      <td>79</td>\n",
              "      <td>103</td>\n",
              "      <td>120</td>\n",
              "      <td>135</td>\n",
              "      <td>115</td>\n",
              "      <td>78</td>\n",
              "      <td>1</td>\n",
              "      <td>False</td>\n",
              "    </tr>\n",
              "    <tr>\n",
              "      <th>10</th>\n",
              "      <td>Caterpie</td>\n",
              "      <td>Bug</td>\n",
              "      <td>NaN</td>\n",
              "      <td>195</td>\n",
              "      <td>45</td>\n",
              "      <td>30</td>\n",
              "      <td>35</td>\n",
              "      <td>20</td>\n",
              "      <td>20</td>\n",
              "      <td>45</td>\n",
              "      <td>1</td>\n",
              "      <td>False</td>\n",
              "    </tr>\n",
              "    <tr>\n",
              "      <th>11</th>\n",
              "      <td>Metapod</td>\n",
              "      <td>Bug</td>\n",
              "      <td>NaN</td>\n",
              "      <td>205</td>\n",
              "      <td>50</td>\n",
              "      <td>20</td>\n",
              "      <td>55</td>\n",
              "      <td>25</td>\n",
              "      <td>25</td>\n",
              "      <td>30</td>\n",
              "      <td>1</td>\n",
              "      <td>False</td>\n",
              "    </tr>\n",
              "    <tr>\n",
              "      <th>12</th>\n",
              "      <td>Butterfree</td>\n",
              "      <td>Bug</td>\n",
              "      <td>Flying</td>\n",
              "      <td>395</td>\n",
              "      <td>60</td>\n",
              "      <td>45</td>\n",
              "      <td>50</td>\n",
              "      <td>90</td>\n",
              "      <td>80</td>\n",
              "      <td>70</td>\n",
              "      <td>1</td>\n",
              "      <td>False</td>\n",
              "    </tr>\n",
              "    <tr>\n",
              "      <th>13</th>\n",
              "      <td>Weedle</td>\n",
              "      <td>Bug</td>\n",
              "      <td>Poison</td>\n",
              "      <td>195</td>\n",
              "      <td>40</td>\n",
              "      <td>35</td>\n",
              "      <td>30</td>\n",
              "      <td>20</td>\n",
              "      <td>20</td>\n",
              "      <td>50</td>\n",
              "      <td>1</td>\n",
              "      <td>False</td>\n",
              "    </tr>\n",
              "    <tr>\n",
              "      <th>14</th>\n",
              "      <td>Kakuna</td>\n",
              "      <td>Bug</td>\n",
              "      <td>Poison</td>\n",
              "      <td>205</td>\n",
              "      <td>45</td>\n",
              "      <td>25</td>\n",
              "      <td>50</td>\n",
              "      <td>25</td>\n",
              "      <td>25</td>\n",
              "      <td>35</td>\n",
              "      <td>1</td>\n",
              "      <td>False</td>\n",
              "    </tr>\n",
              "    <tr>\n",
              "      <th>15</th>\n",
              "      <td>Beedrill</td>\n",
              "      <td>Bug</td>\n",
              "      <td>Poison</td>\n",
              "      <td>395</td>\n",
              "      <td>65</td>\n",
              "      <td>90</td>\n",
              "      <td>40</td>\n",
              "      <td>45</td>\n",
              "      <td>80</td>\n",
              "      <td>75</td>\n",
              "      <td>1</td>\n",
              "      <td>False</td>\n",
              "    </tr>\n",
              "    <tr>\n",
              "      <th>15</th>\n",
              "      <td>Mega Beedrill</td>\n",
              "      <td>Bug</td>\n",
              "      <td>Poison</td>\n",
              "      <td>495</td>\n",
              "      <td>65</td>\n",
              "      <td>150</td>\n",
              "      <td>40</td>\n",
              "      <td>15</td>\n",
              "      <td>80</td>\n",
              "      <td>145</td>\n",
              "      <td>1</td>\n",
              "      <td>False</td>\n",
              "    </tr>\n",
              "  </tbody>\n",
              "</table>\n",
              "</div>"
            ],
            "text/plain": [
              "                name  type1   type2  ...  speed  generation  legendary\n",
              "#                                    ...                              \n",
              "1          Bulbasaur  Grass  Poison  ...     45           1      False\n",
              "2            Ivysaur  Grass  Poison  ...     60           1      False\n",
              "3           Venusaur  Grass  Poison  ...     80           1      False\n",
              "3      Mega Venusaur  Grass  Poison  ...     80           1      False\n",
              "4         Charmander   Fire     NaN  ...     65           1      False\n",
              "5         Charmeleon   Fire     NaN  ...     80           1      False\n",
              "6          Charizard   Fire  Flying  ...    100           1      False\n",
              "6   Mega Charizard X   Fire  Dragon  ...    100           1      False\n",
              "6   Mega Charizard Y   Fire  Flying  ...    100           1      False\n",
              "7           Squirtle  Water     NaN  ...     43           1      False\n",
              "8          Wartortle  Water     NaN  ...     58           1      False\n",
              "9          Blastoise  Water     NaN  ...     78           1      False\n",
              "9     Mega Blastoise  Water     NaN  ...     78           1      False\n",
              "10          Caterpie    Bug     NaN  ...     45           1      False\n",
              "11           Metapod    Bug     NaN  ...     30           1      False\n",
              "12        Butterfree    Bug  Flying  ...     70           1      False\n",
              "13            Weedle    Bug  Poison  ...     50           1      False\n",
              "14            Kakuna    Bug  Poison  ...     35           1      False\n",
              "15          Beedrill    Bug  Poison  ...     75           1      False\n",
              "15     Mega Beedrill    Bug  Poison  ...    145           1      False\n",
              "\n",
              "[20 rows x 12 columns]"
            ]
          },
          "metadata": {
            "tags": []
          },
          "execution_count": 13
        }
      ]
    },
    {
      "cell_type": "code",
      "metadata": {
        "id": "c1YIXSpVPP2h",
        "outputId": "e77d4b96-3b18-4677-975a-ac1bcf35aee3",
        "colab": {
          "base_uri": "https://localhost:8080/",
          "height": 225
        }
      },
      "source": [
        "pk_df = pk_df.set_index(\"name\")\n",
        "pk_df.head()"
      ],
      "execution_count": null,
      "outputs": [
        {
          "output_type": "execute_result",
          "data": {
            "text/html": [
              "<div>\n",
              "<style scoped>\n",
              "    .dataframe tbody tr th:only-of-type {\n",
              "        vertical-align: middle;\n",
              "    }\n",
              "\n",
              "    .dataframe tbody tr th {\n",
              "        vertical-align: top;\n",
              "    }\n",
              "\n",
              "    .dataframe thead th {\n",
              "        text-align: right;\n",
              "    }\n",
              "</style>\n",
              "<table border=\"1\" class=\"dataframe\">\n",
              "  <thead>\n",
              "    <tr style=\"text-align: right;\">\n",
              "      <th></th>\n",
              "      <th>type1</th>\n",
              "      <th>type2</th>\n",
              "      <th>total</th>\n",
              "      <th>hp</th>\n",
              "      <th>attack</th>\n",
              "      <th>defense</th>\n",
              "      <th>sp_atk</th>\n",
              "      <th>sp_def</th>\n",
              "      <th>speed</th>\n",
              "      <th>generation</th>\n",
              "      <th>legendary</th>\n",
              "    </tr>\n",
              "    <tr>\n",
              "      <th>name</th>\n",
              "      <th></th>\n",
              "      <th></th>\n",
              "      <th></th>\n",
              "      <th></th>\n",
              "      <th></th>\n",
              "      <th></th>\n",
              "      <th></th>\n",
              "      <th></th>\n",
              "      <th></th>\n",
              "      <th></th>\n",
              "      <th></th>\n",
              "    </tr>\n",
              "  </thead>\n",
              "  <tbody>\n",
              "    <tr>\n",
              "      <th>Bulbasaur</th>\n",
              "      <td>Grass</td>\n",
              "      <td>Poison</td>\n",
              "      <td>318</td>\n",
              "      <td>45</td>\n",
              "      <td>49</td>\n",
              "      <td>49</td>\n",
              "      <td>65</td>\n",
              "      <td>65</td>\n",
              "      <td>45</td>\n",
              "      <td>1</td>\n",
              "      <td>False</td>\n",
              "    </tr>\n",
              "    <tr>\n",
              "      <th>Ivysaur</th>\n",
              "      <td>Grass</td>\n",
              "      <td>Poison</td>\n",
              "      <td>405</td>\n",
              "      <td>60</td>\n",
              "      <td>62</td>\n",
              "      <td>63</td>\n",
              "      <td>80</td>\n",
              "      <td>80</td>\n",
              "      <td>60</td>\n",
              "      <td>1</td>\n",
              "      <td>False</td>\n",
              "    </tr>\n",
              "    <tr>\n",
              "      <th>Venusaur</th>\n",
              "      <td>Grass</td>\n",
              "      <td>Poison</td>\n",
              "      <td>525</td>\n",
              "      <td>80</td>\n",
              "      <td>82</td>\n",
              "      <td>83</td>\n",
              "      <td>100</td>\n",
              "      <td>100</td>\n",
              "      <td>80</td>\n",
              "      <td>1</td>\n",
              "      <td>False</td>\n",
              "    </tr>\n",
              "    <tr>\n",
              "      <th>Mega Venusaur</th>\n",
              "      <td>Grass</td>\n",
              "      <td>Poison</td>\n",
              "      <td>625</td>\n",
              "      <td>80</td>\n",
              "      <td>100</td>\n",
              "      <td>123</td>\n",
              "      <td>122</td>\n",
              "      <td>120</td>\n",
              "      <td>80</td>\n",
              "      <td>1</td>\n",
              "      <td>False</td>\n",
              "    </tr>\n",
              "    <tr>\n",
              "      <th>Charmander</th>\n",
              "      <td>Fire</td>\n",
              "      <td>NaN</td>\n",
              "      <td>309</td>\n",
              "      <td>39</td>\n",
              "      <td>52</td>\n",
              "      <td>43</td>\n",
              "      <td>60</td>\n",
              "      <td>50</td>\n",
              "      <td>65</td>\n",
              "      <td>1</td>\n",
              "      <td>False</td>\n",
              "    </tr>\n",
              "  </tbody>\n",
              "</table>\n",
              "</div>"
            ],
            "text/plain": [
              "               type1   type2  total  hp  ...  sp_def  speed  generation  legendary\n",
              "name                                     ...                                      \n",
              "Bulbasaur      Grass  Poison    318  45  ...      65     45           1      False\n",
              "Ivysaur        Grass  Poison    405  60  ...      80     60           1      False\n",
              "Venusaur       Grass  Poison    525  80  ...     100     80           1      False\n",
              "Mega Venusaur  Grass  Poison    625  80  ...     120     80           1      False\n",
              "Charmander      Fire     NaN    309  39  ...      50     65           1      False\n",
              "\n",
              "[5 rows x 11 columns]"
            ]
          },
          "metadata": {
            "tags": []
          },
          "execution_count": 14
        }
      ]
    },
    {
      "cell_type": "code",
      "metadata": {
        "id": "9WeQya-EPbHv",
        "outputId": "9fc340e7-9225-4d7c-95f5-bb5e98e0a8a8",
        "colab": {
          "base_uri": "https://localhost:8080/"
        }
      },
      "source": [
        "pk_df.isnull().any()"
      ],
      "execution_count": null,
      "outputs": [
        {
          "output_type": "execute_result",
          "data": {
            "text/plain": [
              "type1         False\n",
              "type2          True\n",
              "total         False\n",
              "hp            False\n",
              "attack        False\n",
              "defense       False\n",
              "sp_atk        False\n",
              "sp_def        False\n",
              "speed         False\n",
              "generation    False\n",
              "legendary     False\n",
              "dtype: bool"
            ]
          },
          "metadata": {
            "tags": []
          },
          "execution_count": 15
        }
      ]
    },
    {
      "cell_type": "code",
      "metadata": {
        "id": "95nfKrjEPmF7",
        "outputId": "0b919b18-7408-4889-9c23-54b86089854e",
        "colab": {
          "base_uri": "https://localhost:8080/"
        }
      },
      "source": [
        "pk_df.isna().sum()"
      ],
      "execution_count": null,
      "outputs": [
        {
          "output_type": "execute_result",
          "data": {
            "text/plain": [
              "type1           0\n",
              "type2         386\n",
              "total           0\n",
              "hp              0\n",
              "attack          0\n",
              "defense         0\n",
              "sp_atk          0\n",
              "sp_def          0\n",
              "speed           0\n",
              "generation      0\n",
              "legendary       0\n",
              "dtype: int64"
            ]
          },
          "metadata": {
            "tags": []
          },
          "execution_count": 16
        }
      ]
    },
    {
      "cell_type": "code",
      "metadata": {
        "id": "n8nYobF2PySf",
        "outputId": "5faa7aaa-16ec-4fd4-dc80-160c657ce40f",
        "colab": {
          "base_uri": "https://localhost:8080/",
          "height": 225
        }
      },
      "source": [
        "pk_df.drop(\"type2\",inplace=True,axis=1)\n",
        "pk_df.head()"
      ],
      "execution_count": null,
      "outputs": [
        {
          "output_type": "execute_result",
          "data": {
            "text/html": [
              "<div>\n",
              "<style scoped>\n",
              "    .dataframe tbody tr th:only-of-type {\n",
              "        vertical-align: middle;\n",
              "    }\n",
              "\n",
              "    .dataframe tbody tr th {\n",
              "        vertical-align: top;\n",
              "    }\n",
              "\n",
              "    .dataframe thead th {\n",
              "        text-align: right;\n",
              "    }\n",
              "</style>\n",
              "<table border=\"1\" class=\"dataframe\">\n",
              "  <thead>\n",
              "    <tr style=\"text-align: right;\">\n",
              "      <th></th>\n",
              "      <th>type1</th>\n",
              "      <th>total</th>\n",
              "      <th>hp</th>\n",
              "      <th>attack</th>\n",
              "      <th>defense</th>\n",
              "      <th>sp_atk</th>\n",
              "      <th>sp_def</th>\n",
              "      <th>speed</th>\n",
              "      <th>generation</th>\n",
              "      <th>legendary</th>\n",
              "    </tr>\n",
              "    <tr>\n",
              "      <th>name</th>\n",
              "      <th></th>\n",
              "      <th></th>\n",
              "      <th></th>\n",
              "      <th></th>\n",
              "      <th></th>\n",
              "      <th></th>\n",
              "      <th></th>\n",
              "      <th></th>\n",
              "      <th></th>\n",
              "      <th></th>\n",
              "    </tr>\n",
              "  </thead>\n",
              "  <tbody>\n",
              "    <tr>\n",
              "      <th>Bulbasaur</th>\n",
              "      <td>Grass</td>\n",
              "      <td>318</td>\n",
              "      <td>45</td>\n",
              "      <td>49</td>\n",
              "      <td>49</td>\n",
              "      <td>65</td>\n",
              "      <td>65</td>\n",
              "      <td>45</td>\n",
              "      <td>1</td>\n",
              "      <td>False</td>\n",
              "    </tr>\n",
              "    <tr>\n",
              "      <th>Ivysaur</th>\n",
              "      <td>Grass</td>\n",
              "      <td>405</td>\n",
              "      <td>60</td>\n",
              "      <td>62</td>\n",
              "      <td>63</td>\n",
              "      <td>80</td>\n",
              "      <td>80</td>\n",
              "      <td>60</td>\n",
              "      <td>1</td>\n",
              "      <td>False</td>\n",
              "    </tr>\n",
              "    <tr>\n",
              "      <th>Venusaur</th>\n",
              "      <td>Grass</td>\n",
              "      <td>525</td>\n",
              "      <td>80</td>\n",
              "      <td>82</td>\n",
              "      <td>83</td>\n",
              "      <td>100</td>\n",
              "      <td>100</td>\n",
              "      <td>80</td>\n",
              "      <td>1</td>\n",
              "      <td>False</td>\n",
              "    </tr>\n",
              "    <tr>\n",
              "      <th>Mega Venusaur</th>\n",
              "      <td>Grass</td>\n",
              "      <td>625</td>\n",
              "      <td>80</td>\n",
              "      <td>100</td>\n",
              "      <td>123</td>\n",
              "      <td>122</td>\n",
              "      <td>120</td>\n",
              "      <td>80</td>\n",
              "      <td>1</td>\n",
              "      <td>False</td>\n",
              "    </tr>\n",
              "    <tr>\n",
              "      <th>Charmander</th>\n",
              "      <td>Fire</td>\n",
              "      <td>309</td>\n",
              "      <td>39</td>\n",
              "      <td>52</td>\n",
              "      <td>43</td>\n",
              "      <td>60</td>\n",
              "      <td>50</td>\n",
              "      <td>65</td>\n",
              "      <td>1</td>\n",
              "      <td>False</td>\n",
              "    </tr>\n",
              "  </tbody>\n",
              "</table>\n",
              "</div>"
            ],
            "text/plain": [
              "               type1  total  hp  attack  ...  sp_def  speed  generation  legendary\n",
              "name                                     ...                                      \n",
              "Bulbasaur      Grass    318  45      49  ...      65     45           1      False\n",
              "Ivysaur        Grass    405  60      62  ...      80     60           1      False\n",
              "Venusaur       Grass    525  80      82  ...     100     80           1      False\n",
              "Mega Venusaur  Grass    625  80     100  ...     120     80           1      False\n",
              "Charmander      Fire    309  39      52  ...      50     65           1      False\n",
              "\n",
              "[5 rows x 10 columns]"
            ]
          },
          "metadata": {
            "tags": []
          },
          "execution_count": 18
        }
      ]
    },
    {
      "cell_type": "code",
      "metadata": {
        "id": "Xi0wswqUQFeM",
        "outputId": "3d826e86-0a26-42af-8e3c-52a42e2c562a",
        "colab": {
          "base_uri": "https://localhost:8080/"
        }
      },
      "source": [
        "pk_df[\"type1\"].value_counts()"
      ],
      "execution_count": null,
      "outputs": [
        {
          "output_type": "execute_result",
          "data": {
            "text/plain": [
              "Water       112\n",
              "Normal       98\n",
              "Grass        70\n",
              "Bug          69\n",
              "Psychic      57\n",
              "Fire         52\n",
              "Electric     44\n",
              "Rock         44\n",
              "Ghost        32\n",
              "Ground       32\n",
              "Dragon       32\n",
              "Dark         31\n",
              "Poison       28\n",
              "Fighting     27\n",
              "Steel        27\n",
              "Ice          24\n",
              "Fairy        17\n",
              "Flying        4\n",
              "Name: type1, dtype: int64"
            ]
          },
          "metadata": {
            "tags": []
          },
          "execution_count": 19
        }
      ]
    },
    {
      "cell_type": "code",
      "metadata": {
        "id": "K0RLG0mlQPbr",
        "outputId": "428c4672-ecdd-4be7-a495-40365a490ebe",
        "colab": {
          "base_uri": "https://localhost:8080/",
          "height": 638
        }
      },
      "source": [
        "plt.figure(figsize=(15,10))\n",
        "plt.bar(pk_df[\"type1\"].unique(),pk_df[\"type1\"].value_counts())\n",
        "plt.title(\"Distribución de Tipos de Pokemon\")\n",
        "\n",
        "plt.xlabel(\"Types\")\n",
        "plt.ylabel(\"Total\")\n",
        "\n"
      ],
      "execution_count": null,
      "outputs": [
        {
          "output_type": "execute_result",
          "data": {
            "text/plain": [
              "Text(0, 0.5, 'Total')"
            ]
          },
          "metadata": {
            "tags": []
          },
          "execution_count": 21
        },
        {
          "output_type": "display_data",
          "data": {
            "image/png": "[encoded data removed]",
            "text/plain": [
              "<Figure size 1080x720 with 1 Axes>"
            ]
          },
          "metadata": {
            "tags": [],
            "needs_background": "light"
          }
        }
      ]
    },
    {
      "cell_type": "code",
      "metadata": {
        "id": "OkVFG-dyQsEb",
        "outputId": "0f80aa8a-7f8f-474b-db1e-c9d5276793b3",
        "colab": {
          "base_uri": "https://localhost:8080/",
          "height": 284
        }
      },
      "source": [
        "pk_df.describe()"
      ],
      "execution_count": null,
      "outputs": [
        {
          "output_type": "execute_result",
          "data": {
            "text/html": [
              "<div>\n",
              "<style scoped>\n",
              "    .dataframe tbody tr th:only-of-type {\n",
              "        vertical-align: middle;\n",
              "    }\n",
              "\n",
              "    .dataframe tbody tr th {\n",
              "        vertical-align: top;\n",
              "    }\n",
              "\n",
              "    .dataframe thead th {\n",
              "        text-align: right;\n",
              "    }\n",
              "</style>\n",
              "<table border=\"1\" class=\"dataframe\">\n",
              "  <thead>\n",
              "    <tr style=\"text-align: right;\">\n",
              "      <th></th>\n",
              "      <th>total</th>\n",
              "      <th>hp</th>\n",
              "      <th>attack</th>\n",
              "      <th>defense</th>\n",
              "      <th>sp_atk</th>\n",
              "      <th>sp_def</th>\n",
              "      <th>speed</th>\n",
              "      <th>generation</th>\n",
              "    </tr>\n",
              "  </thead>\n",
              "  <tbody>\n",
              "    <tr>\n",
              "      <th>count</th>\n",
              "      <td>800.00000</td>\n",
              "      <td>800.000000</td>\n",
              "      <td>800.000000</td>\n",
              "      <td>800.000000</td>\n",
              "      <td>800.000000</td>\n",
              "      <td>800.000000</td>\n",
              "      <td>800.000000</td>\n",
              "      <td>800.00000</td>\n",
              "    </tr>\n",
              "    <tr>\n",
              "      <th>mean</th>\n",
              "      <td>435.10250</td>\n",
              "      <td>69.258750</td>\n",
              "      <td>79.001250</td>\n",
              "      <td>73.842500</td>\n",
              "      <td>72.820000</td>\n",
              "      <td>71.902500</td>\n",
              "      <td>68.277500</td>\n",
              "      <td>3.32375</td>\n",
              "    </tr>\n",
              "    <tr>\n",
              "      <th>std</th>\n",
              "      <td>119.96304</td>\n",
              "      <td>25.534669</td>\n",
              "      <td>32.457366</td>\n",
              "      <td>31.183501</td>\n",
              "      <td>32.722294</td>\n",
              "      <td>27.828916</td>\n",
              "      <td>29.060474</td>\n",
              "      <td>1.66129</td>\n",
              "    </tr>\n",
              "    <tr>\n",
              "      <th>min</th>\n",
              "      <td>180.00000</td>\n",
              "      <td>1.000000</td>\n",
              "      <td>5.000000</td>\n",
              "      <td>5.000000</td>\n",
              "      <td>10.000000</td>\n",
              "      <td>20.000000</td>\n",
              "      <td>5.000000</td>\n",
              "      <td>1.00000</td>\n",
              "    </tr>\n",
              "    <tr>\n",
              "      <th>25%</th>\n",
              "      <td>330.00000</td>\n",
              "      <td>50.000000</td>\n",
              "      <td>55.000000</td>\n",
              "      <td>50.000000</td>\n",
              "      <td>49.750000</td>\n",
              "      <td>50.000000</td>\n",
              "      <td>45.000000</td>\n",
              "      <td>2.00000</td>\n",
              "    </tr>\n",
              "    <tr>\n",
              "      <th>50%</th>\n",
              "      <td>450.00000</td>\n",
              "      <td>65.000000</td>\n",
              "      <td>75.000000</td>\n",
              "      <td>70.000000</td>\n",
              "      <td>65.000000</td>\n",
              "      <td>70.000000</td>\n",
              "      <td>65.000000</td>\n",
              "      <td>3.00000</td>\n",
              "    </tr>\n",
              "    <tr>\n",
              "      <th>75%</th>\n",
              "      <td>515.00000</td>\n",
              "      <td>80.000000</td>\n",
              "      <td>100.000000</td>\n",
              "      <td>90.000000</td>\n",
              "      <td>95.000000</td>\n",
              "      <td>90.000000</td>\n",
              "      <td>90.000000</td>\n",
              "      <td>5.00000</td>\n",
              "    </tr>\n",
              "    <tr>\n",
              "      <th>max</th>\n",
              "      <td>780.00000</td>\n",
              "      <td>255.000000</td>\n",
              "      <td>190.000000</td>\n",
              "      <td>230.000000</td>\n",
              "      <td>194.000000</td>\n",
              "      <td>230.000000</td>\n",
              "      <td>180.000000</td>\n",
              "      <td>6.00000</td>\n",
              "    </tr>\n",
              "  </tbody>\n",
              "</table>\n",
              "</div>"
            ],
            "text/plain": [
              "           total          hp      attack  ...      sp_def       speed  generation\n",
              "count  800.00000  800.000000  800.000000  ...  800.000000  800.000000   800.00000\n",
              "mean   435.10250   69.258750   79.001250  ...   71.902500   68.277500     3.32375\n",
              "std    119.96304   25.534669   32.457366  ...   27.828916   29.060474     1.66129\n",
              "min    180.00000    1.000000    5.000000  ...   20.000000    5.000000     1.00000\n",
              "25%    330.00000   50.000000   55.000000  ...   50.000000   45.000000     2.00000\n",
              "50%    450.00000   65.000000   75.000000  ...   70.000000   65.000000     3.00000\n",
              "75%    515.00000   80.000000  100.000000  ...   90.000000   90.000000     5.00000\n",
              "max    780.00000  255.000000  190.000000  ...  230.000000  180.000000     6.00000\n",
              "\n",
              "[8 rows x 8 columns]"
            ]
          },
          "metadata": {
            "tags": []
          },
          "execution_count": 22
        }
      ]
    },
    {
      "cell_type": "code",
      "metadata": {
        "id": "4hCD5dh1Q2Nt",
        "outputId": "ccfcc016-9208-48c4-947d-5c436d666dfa",
        "colab": {
          "base_uri": "https://localhost:8080/",
          "height": 531
        }
      },
      "source": [
        "plt.figure(figsize=(10,8))\n",
        "sns.heatmap(pk_df.corr(),annot=True)\n",
        "plt.show()"
      ],
      "execution_count": null,
      "outputs": [
        {
          "output_type": "display_data",
          "data": {
            "image/png": "[encoded data removed]",
            "text/plain": [
              "<Figure size 720x576 with 2 Axes>"
            ]
          },
          "metadata": {
            "tags": [],
            "needs_background": "light"
          }
        }
      ]
    },
    {
      "cell_type": "code",
      "metadata": {
        "id": "BtaUYVJ7RdcQ",
        "outputId": "c30e9a30-ed07-4c8d-ea7a-8caa13950d34",
        "colab": {
          "base_uri": "https://localhost:8080/",
          "height": 350
        }
      },
      "source": [
        "sns.countplot(pk_df[\"generation\"])"
      ],
      "execution_count": null,
      "outputs": [
        {
          "output_type": "stream",
          "text": [
            "/usr/local/lib/python3.6/dist-packages/seaborn/_decorators.py:43: FutureWarning: Pass the following variable as a keyword arg: x. From version 0.12, the only valid positional argument will be `data`, and passing other arguments without an explicit keyword will result in an error or misinterpretation.\n",
            "  FutureWarning\n"
          ],
          "name": "stderr"
        },
        {
          "output_type": "execute_result",
          "data": {
            "text/plain": [
              "<matplotlib.axes._subplots.AxesSubplot at 0x7feeb737fb38>"
            ]
          },
          "metadata": {
            "tags": []
          },
          "execution_count": 27
        },
        {
          "output_type": "display_data",
          "data": {
            "image/png": "[encoded data removed]",
            "text/plain": [
              "<Figure size 432x288 with 1 Axes>"
            ]
          },
          "metadata": {
            "tags": [],
            "needs_background": "light"
          }
        }
      ]
    },
    {
      "cell_type": "code",
      "metadata": {
        "id": "0wn7iiXhRoSv",
        "outputId": "4f36ec4c-616d-4693-c6d4-419e25ccb424",
        "colab": {
          "base_uri": "https://localhost:8080/",
          "height": 350
        }
      },
      "source": [
        "sns.distplot(pk_df[\"hp\"])"
      ],
      "execution_count": null,
      "outputs": [
        {
          "output_type": "stream",
          "text": [
            "/usr/local/lib/python3.6/dist-packages/seaborn/distributions.py:2551: FutureWarning: `distplot` is a deprecated function and will be removed in a future version. Please adapt your code to use either `displot` (a figure-level function with similar flexibility) or `histplot` (an axes-level function for histograms).\n",
            "  warnings.warn(msg, FutureWarning)\n"
          ],
          "name": "stderr"
        },
        {
          "output_type": "execute_result",
          "data": {
            "text/plain": [
              "<matplotlib.axes._subplots.AxesSubplot at 0x7feeb29a9cc0>"
            ]
          },
          "metadata": {
            "tags": []
          },
          "execution_count": 28
        },
        {
          "output_type": "display_data",
          "data": {
            "image/png": "[encoded data removed]",
            "text/plain": [
              "<Figure size 432x288 with 1 Axes>"
            ]
          },
          "metadata": {
            "tags": [],
            "needs_background": "light"
          }
        }
      ]
    },
    {
      "cell_type": "code",
      "metadata": {
        "id": "wpsxc3jdRxnX",
        "outputId": "4f9c903a-1756-4d7c-bc67-d15547c7185b",
        "colab": {
          "base_uri": "https://localhost:8080/",
          "height": 296
        }
      },
      "source": [
        "sns.boxplot(x=\"legendary\",y=\"attack\",data=pk_df)"
      ],
      "execution_count": null,
      "outputs": [
        {
          "output_type": "execute_result",
          "data": {
            "text/plain": [
              "<matplotlib.axes._subplots.AxesSubplot at 0x7feeb295ed30>"
            ]
          },
          "metadata": {
            "tags": []
          },
          "execution_count": 29
        },
        {
          "output_type": "display_data",
          "data": {
            "image/png": "[encoded data removed]",
            "text/plain": [
              "<Figure size 432x288 with 1 Axes>"
            ]
          },
          "metadata": {
            "tags": [],
            "needs_background": "light"
          }
        }
      ]
    },
    {
      "cell_type": "code",
      "metadata": {
        "id": "OO-Pp51kSihQ",
        "outputId": "a0888904-57c1-4315-e200-f72c2b804b11",
        "colab": {
          "base_uri": "https://localhost:8080/"
        }
      },
      "source": [
        "pk_df[\"type1\"].value_counts()"
      ],
      "execution_count": null,
      "outputs": [
        {
          "output_type": "execute_result",
          "data": {
            "text/plain": [
              "Water       112\n",
              "Normal       98\n",
              "Grass        70\n",
              "Bug          69\n",
              "Psychic      57\n",
              "Fire         52\n",
              "Electric     44\n",
              "Rock         44\n",
              "Ghost        32\n",
              "Ground       32\n",
              "Dragon       32\n",
              "Dark         31\n",
              "Poison       28\n",
              "Fighting     27\n",
              "Steel        27\n",
              "Ice          24\n",
              "Fairy        17\n",
              "Flying        4\n",
              "Name: type1, dtype: int64"
            ]
          },
          "metadata": {
            "tags": []
          },
          "execution_count": 30
        }
      ]
    },
    {
      "cell_type": "code",
      "metadata": {
        "id": "2TC8coqcR7QB",
        "outputId": "f5a99b65-f619-4cd1-a529-1155b0e853c2",
        "colab": {
          "base_uri": "https://localhost:8080/",
          "height": 910
        }
      },
      "source": [
        "\n",
        "plt.figure(figsize=(15,15))\n",
        "\n",
        "for index, i in enumerate(pk_df[\"type1\"].unique()):\n",
        "  x = pk_df[pk_df[\"type1\"]==i]\n",
        "  plt.scatter(x.attack,x.defense,label=i,cmap=plt.cm.prism,s=120)\n",
        "\n",
        "plt.legend()\n",
        "plt.grid()\n",
        "plt.xlabel(\"Attack\")\n",
        "plt.ylabel(\"Defense\")\n",
        "plt.title(\"Attack - Defense bye Type of Pokemon\")\n",
        "\n"
      ],
      "execution_count": null,
      "outputs": [
        {
          "output_type": "execute_result",
          "data": {
            "text/plain": [
              "Text(0.5, 1.0, 'Attack - Defense bye Type of Pokemon')"
            ]
          },
          "metadata": {
            "tags": []
          },
          "execution_count": 33
        },
        {
          "output_type": "display_data",
          "data": {
            "image/png": "[encoded data removed]",
            "text/plain": [
              "<Figure size 1080x1080 with 1 Axes>"
            ]
          },
          "metadata": {
            "tags": [],
            "needs_background": "light"
          }
        }
      ]
    }
  ]
}